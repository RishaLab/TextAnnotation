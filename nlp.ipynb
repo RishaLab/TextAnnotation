{
 "cells": [
  {
   "cell_type": "code",
   "execution_count": 69,
   "metadata": {},
   "outputs": [],
   "source": [
    "content = open(\"data.txt\").read()"
   ]
  },
  {
   "cell_type": "code",
   "execution_count": 70,
   "metadata": {},
   "outputs": [],
   "source": [
    "# from nltk.stem.porter import PorterStemmer\n",
    "# from nltk.stem.wordnet import WordNetLemmatizer\n",
    "# lem = WordNetLemmatizer()\n",
    "# stem = PorterStemmer()\n",
    "# word = \"including\"\n",
    "# print(\"stemming:\",stem.stem(word))\n",
    "# print(\"lemmatization:\", lem.lemmatize(word, \"v\"))"
   ]
  },
  {
   "cell_type": "code",
   "execution_count": 71,
   "metadata": {},
   "outputs": [],
   "source": [
    "import re\n",
    "import nltk\n",
    "#nltk.download('stopwords')\n",
    "from nltk.corpus import stopwords\n",
    "from nltk.stem.porter import PorterStemmer\n",
    "from nltk.tokenize import RegexpTokenizer\n",
    "#nltk.download('wordnet') \n",
    "from nltk.stem.wordnet import WordNetLemmatizer\n",
    "import gensim\n",
    "from gensim.utils import simple_preprocess\n",
    "from nltk.stem import WordNetLemmatizer, SnowballStemmer\n",
    "from nltk.stem.porter import *\n",
    "import numpy as np"
   ]
  },
  {
   "cell_type": "code",
   "execution_count": 72,
   "metadata": {},
   "outputs": [],
   "source": [
    "#import nltk\n",
    "from nltk.corpus import stopwords\n",
    "stop_words = set(stopwords.words(\"english\"))\n",
    "##Creating a list of custom stopwords\n",
    "new_words = ['line',\n",
    "'hello',\n",
    "'world',\n",
    "'first',\n",
    "'write',\n",
    "'within',\n",
    "'statement',\n",
    "'end',\n",
    "'standard',\n",
    "'different',\n",
    "'source',\n",
    "'begin',\n",
    "'compile',\n",
    "'statements',\n",
    "'execute',\n",
    "'previous',\n",
    "'go',\n",
    "'follow',\n",
    "'second',\n",
    "'number','two','use','one','result','case','example','way','specific','separation','notice','output','format','valid','ways','would','block'\n",
    "'character','tutorial','without','several','take','expressions','eq','store','reserve']\n",
    "stop_words = stop_words.union(new_words)"
   ]
  },
  {
   "cell_type": "code",
   "execution_count": 73,
   "metadata": {},
   "outputs": [],
   "source": [
    "# import pandas as pd\n",
    "# stemmer = SnowballStemmer(\"english\")"
   ]
  },
  {
   "cell_type": "code",
   "execution_count": 74,
   "metadata": {},
   "outputs": [
    {
     "name": "stdout",
     "output_type": "stream",
     "text": [
      "['c', 'language', 'compiler', 'may', 'also', 'include', 'additional', 'reserve', 'keywords', 'important', 'c', 'language', 'sensitive', 'language', 'mean', 'identifier', 'write', 'capital', 'letter', 'equivalent', 'another', 'name', 'write', 'small', 'letter', 'thus', 'variable', 'variable', 'variable', 'three', 'variable', 'identifiers', 'fundamental', 'data', 'type', 'program', 'variables', 'computer', 'memory', 'computer', 'know', 'kind', 'data', 'want', 'since', 'go', 'occupy', 'amount', 'memory', 'simple', 'single', 'letter', 'large', 'go', 'interpret', 'memory', 'computers', 'organize', 'bytes', 'byte', 'minimum', 'amount', 'memory', 'manage', 'c', 'byte', 'relatively', 'small', 'amount', 'data', 'single', 'character', 'small', 'integer', 'generally', 'integer', 'addition', 'computer', 'manipulate', 'complex', 'data', 'type', 'come', 'group', 'bytes', 'long', 'number', 'non', 'integer', 'number', 'next', 'summary', 'basic', 'fundamental', 'data', 'type', 'c', 'well', 'range', 'value', 'represent', 'name', 'description', 'size', 'range', 'char', 'character', 'small', 'integer', 'byte', 'sign', 'unsigned', 'short', 'int', 'short', 'integer', 'bytes', 'sign', 'short', 'unsigned', 'sign', 'int', 'integer', 'bytes', 'unsigned', 'sign', 'long', 'int', 'long', 'long', 'integer', 'bytes', 'unsigned', 'bool', 'boolean', 'value', 'value', 'true', 'byte', 'true', 'false', 'false', 'float', 'float', 'point', 'bytes', 'e', 'digits', 'double', 'double', 'precision', 'float', 'point', 'bytes', 'e', 'digits', 'long', 'double', 'long', 'double', 'precision', 'float', 'point', 'bytes', 'e', 'digits', 'wchar', 'wide', 'character', 'wide', 'character', 'bytes', 'value', 'columns', 'size', 'range', 'depend', 'system', 'program', 'compile', 'value', 'show', 'find', 'bite', 'systems', 'systems', 'general', 'specification', 'int', 'natural', 'size', 'suggest', 'system', 'architecture', 'word', 'four', 'integer', 'type', 'char', 'short', 'int', 'long', 'must', 'least', 'large', 'precede', 'char', 'always', 'byte', 'size', 'apply', 'float', 'point', 'type', 'float', 'double', 'long', 'double', 'must', 'provide', 'least', 'much', 'precision', 'precede', 'declaration', 'variables', 'order', 'variable', 'c', 'must', 'declare', 'specify', 'data', 'type', 'want', 'syntax', 'declare', 'new', 'variable', 'specifier', 'desire', 'data', 'type', 'like', 'int', 'bool', 'float', 'follow', 'variable', 'identifier', 'cplusplus', 'com', 'right', 'reserve']\n"
     ]
    }
   ],
   "source": [
    "corpus = []\n",
    "#Remove punctuations\n",
    "text = re.sub('[^a-zA-Z]', ' ',content)\n",
    "\n",
    "#Convert to lowercase\n",
    "text = text.lower()\n",
    "\n",
    "#remove tags\n",
    "text=re.sub(\"&lt;/?.*?&gt;\",\" &lt;&gt; \",text)\n",
    "\n",
    "# remove special characters and digits\n",
    "text=re.sub(\"(\\\\d|\\\\W)+\",\" \",text)\n",
    "\n",
    "##Convert to list from string\n",
    "text = text.split()\n",
    "# print(len(text))\n",
    "##Stemming\n",
    "# ps=PorterStemmer()\n",
    "#Lemmatisation\n",
    "def lemmatize_stemming(text):\n",
    "    return WordNetLemmatizer().lemmatize(text, pos = 'v')\n",
    "for token in text:\n",
    "    if token not in stop_words:\n",
    "        text = lemmatize_stemming(token)\n",
    "        #text = \" \".join(text)\n",
    "        corpus.append(text)\n",
    "#text = [lem.lemmatize(word) for word in text not in stop_words] \n",
    "print(corpus)\n",
    "# text = \" \".join(text)\n",
    "# corpus.append(text)"
   ]
  },
  {
   "cell_type": "code",
   "execution_count": 75,
   "metadata": {},
   "outputs": [
    {
     "data": {
      "text/plain": [
       "254"
      ]
     },
     "execution_count": 75,
     "metadata": {},
     "output_type": "execute_result"
    }
   ],
   "source": [
    "len(corpus)"
   ]
  },
  {
   "cell_type": "code",
   "execution_count": 76,
   "metadata": {},
   "outputs": [
    {
     "name": "stdout",
     "output_type": "stream",
     "text": [
      "<wordcloud.wordcloud.WordCloud object at 0x000001A75217E748>\n"
     ]
    },
    {
     "data": {
      "image/png": "[encoded data removed]",
      "text/plain": [
       "<Figure size 432x288 with 1 Axes>"
      ]
     },
     "metadata": {
      "needs_background": "light"
     },
     "output_type": "display_data"
    }
   ],
   "source": [
    "from os import path\n",
    "from PIL import Image\n",
    "from wordcloud import WordCloud, STOPWORDS, ImageColorGenerator\n",
    "import matplotlib.pyplot as plt\n",
    "wordcloud = WordCloud(\n",
    "                          background_color='white',\n",
    "                          stopwords=stop_words,\n",
    "                          max_words=100,\n",
    "                          max_font_size=50, \n",
    "                          random_state=42\n",
    "                        ).generate(str(corpus))\n",
    "print(wordcloud)\n",
    "fig = plt.figure(1)\n",
    "plt.imshow(wordcloud)\n",
    "plt.axis('off')\n",
    "plt.show()\n",
    "fig.savefig(\"word1.png\", dpi=900)"
   ]
  },
  {
   "cell_type": "code",
   "execution_count": 77,
   "metadata": {},
   "outputs": [
    {
     "data": {
      "text/plain": [
       "['c']"
      ]
     },
     "execution_count": 77,
     "metadata": {},
     "output_type": "execute_result"
    }
   ],
   "source": [
    "dataset = corpus[0].split(\" \")\n",
    "dataset"
   ]
  },
  {
   "cell_type": "code",
   "execution_count": 78,
   "metadata": {},
   "outputs": [],
   "source": [
    "Dict = {}\n",
    "def freq(str): \n",
    "  \n",
    "    # break the string into list of words \n",
    "    str_list = str.split() \n",
    "  \n",
    "    # gives set of unique words \n",
    "    unique_words = set(str_list) \n",
    "      \n",
    "    for words in unique_words : \n",
    "        Dict[words] = str_list.count(words)"
   ]
  },
  {
   "cell_type": "code",
   "execution_count": 79,
   "metadata": {},
   "outputs": [],
   "source": [
    "Dict = {}\n",
    "def freq(str): \n",
    "  \n",
    "    # break the string into list of words \n",
    "    str_list = str.split() \n",
    "  \n",
    "    # gives set of unique words \n",
    "    unique_words = set(str_list) \n",
    "      \n",
    "    for words in unique_words : \n",
    "        print('Frequency of ', words , 'is :', str_list.count(words))\n",
    "        Dict[words] = str_list.count(words)"
   ]
  },
  {
   "cell_type": "code",
   "execution_count": 80,
   "metadata": {},
   "outputs": [],
   "source": [
    "# for i in range(0,870):\n",
    "#     print(type(corpus[i]))"
   ]
  },
  {
   "cell_type": "code",
   "execution_count": null,
   "metadata": {},
   "outputs": [],
   "source": []
  },
  {
   "cell_type": "code",
   "execution_count": 81,
   "metadata": {},
   "outputs": [],
   "source": [
    "s = \" \"\n",
    "s = s.join(corpus)"
   ]
  },
  {
   "cell_type": "code",
   "execution_count": 82,
   "metadata": {},
   "outputs": [
    {
     "name": "stdout",
     "output_type": "stream",
     "text": [
      "c language compiler may also include additional reserve keywords important c language sensitive language mean identifier write capital letter equivalent another name write small letter thus variable variable variable three variable identifiers fundamental data type program variables computer memory computer know kind data want since go occupy amount memory simple single letter large go interpret memory computers organize bytes byte minimum amount memory manage c byte relatively small amount data single character small integer generally integer addition computer manipulate complex data type come group bytes long number non integer number next summary basic fundamental data type c well range value represent name description size range char character small integer byte sign unsigned short int short integer bytes sign short unsigned sign int integer bytes unsigned sign long int long long integer bytes unsigned bool boolean value value true byte true false false float float point bytes e digits double double precision float point bytes e digits long double long double precision float point bytes e digits wchar wide character wide character bytes value columns size range depend system program compile value show find bite systems systems general specification int natural size suggest system architecture word four integer type char short int long must least large precede char always byte size apply float point type float double long double must provide least much precision precede declaration variables order variable c must declare specify data type want syntax declare new variable specifier desire data type like int bool float follow variable identifier cplusplus com right reserve\n"
     ]
    }
   ],
   "source": [
    "print(s)"
   ]
  },
  {
   "cell_type": "code",
   "execution_count": 83,
   "metadata": {},
   "outputs": [
    {
     "name": "stdout",
     "output_type": "stream",
     "text": [
      "Frequency of  four is : 1\n",
      "Frequency of  byte is : 5\n",
      "Frequency of  bite is : 1\n",
      "Frequency of  another is : 1\n",
      "Frequency of  write is : 2\n",
      "Frequency of  syntax is : 1\n",
      "Frequency of  com is : 1\n",
      "Frequency of  complex is : 1\n",
      "Frequency of  must is : 3\n",
      "Frequency of  come is : 1\n",
      "Frequency of  precision is : 3\n",
      "Frequency of  identifiers is : 1\n",
      "Frequency of  specification is : 1\n",
      "Frequency of  want is : 2\n",
      "Frequency of  false is : 2\n",
      "Frequency of  generally is : 1\n",
      "Frequency of  columns is : 1\n",
      "Frequency of  memory is : 4\n",
      "Frequency of  well is : 1\n",
      "Frequency of  computer is : 3\n",
      "Frequency of  represent is : 1\n",
      "Frequency of  least is : 2\n",
      "Frequency of  identifier is : 2\n",
      "Frequency of  large is : 2\n",
      "Frequency of  integer is : 8\n",
      "Frequency of  unsigned is : 4\n",
      "Frequency of  since is : 1\n",
      "Frequency of  wide is : 2\n",
      "Frequency of  always is : 1\n",
      "Frequency of  find is : 1\n",
      "Frequency of  equivalent is : 1\n",
      "Frequency of  interpret is : 1\n",
      "Frequency of  value is : 5\n",
      "Frequency of  wchar is : 1\n",
      "Frequency of  suggest is : 1\n",
      "Frequency of  computers is : 1\n",
      "Frequency of  bytes is : 9\n",
      "Frequency of  specifier is : 1\n",
      "Frequency of  new is : 1\n",
      "Frequency of  int is : 6\n",
      "Frequency of  letter is : 3\n",
      "Frequency of  kind is : 1\n",
      "Frequency of  sign is : 4\n",
      "Frequency of  also is : 1\n",
      "Frequency of  compile is : 1\n",
      "Frequency of  include is : 1\n",
      "Frequency of  declare is : 2\n",
      "Frequency of  sensitive is : 1\n",
      "Frequency of  apply is : 1\n",
      "Frequency of  variables is : 2\n",
      "Frequency of  follow is : 1\n",
      "Frequency of  basic is : 1\n",
      "Frequency of  program is : 2\n",
      "Frequency of  name is : 2\n",
      "Frequency of  organize is : 1\n",
      "Frequency of  size is : 4\n",
      "Frequency of  show is : 1\n",
      "Frequency of  minimum is : 1\n",
      "Frequency of  data is : 7\n",
      "Frequency of  general is : 1\n",
      "Frequency of  keywords is : 1\n",
      "Frequency of  number is : 2\n",
      "Frequency of  char is : 3\n",
      "Frequency of  desire is : 1\n",
      "Frequency of  true is : 2\n",
      "Frequency of  occupy is : 1\n",
      "Frequency of  declaration is : 1\n",
      "Frequency of  relatively is : 1\n",
      "Frequency of  c is : 5\n",
      "Frequency of  addition is : 1\n",
      "Frequency of  precede is : 2\n",
      "Frequency of  boolean is : 1\n",
      "Frequency of  float is : 7\n",
      "Frequency of  architecture is : 1\n",
      "Frequency of  range is : 3\n",
      "Frequency of  small is : 4\n",
      "Frequency of  digits is : 3\n",
      "Frequency of  may is : 1\n",
      "Frequency of  specify is : 1\n",
      "Frequency of  fundamental is : 2\n",
      "Frequency of  character is : 4\n",
      "Frequency of  natural is : 1\n",
      "Frequency of  next is : 1\n",
      "Frequency of  mean is : 1\n",
      "Frequency of  system is : 2\n",
      "Frequency of  like is : 1\n",
      "Frequency of  e is : 3\n",
      "Frequency of  reserve is : 2\n",
      "Frequency of  double is : 6\n",
      "Frequency of  long is : 8\n",
      "Frequency of  much is : 1\n",
      "Frequency of  simple is : 1\n",
      "Frequency of  systems is : 2\n",
      "Frequency of  language is : 3\n",
      "Frequency of  cplusplus is : 1\n",
      "Frequency of  compiler is : 1\n",
      "Frequency of  description is : 1\n",
      "Frequency of  non is : 1\n",
      "Frequency of  point is : 4\n",
      "Frequency of  thus is : 1\n",
      "Frequency of  three is : 1\n",
      "Frequency of  provide is : 1\n",
      "Frequency of  manage is : 1\n",
      "Frequency of  know is : 1\n",
      "Frequency of  manipulate is : 1\n",
      "Frequency of  important is : 1\n",
      "Frequency of  single is : 2\n",
      "Frequency of  summary is : 1\n",
      "Frequency of  word is : 1\n",
      "Frequency of  order is : 1\n",
      "Frequency of  short is : 4\n",
      "Frequency of  bool is : 2\n",
      "Frequency of  right is : 1\n",
      "Frequency of  type is : 7\n",
      "Frequency of  go is : 2\n",
      "Frequency of  additional is : 1\n",
      "Frequency of  capital is : 1\n",
      "Frequency of  variable is : 7\n",
      "Frequency of  depend is : 1\n",
      "Frequency of  amount is : 3\n",
      "Frequency of  group is : 1\n",
      "None\n"
     ]
    }
   ],
   "source": [
    "print(freq(s))"
   ]
  },
  {
   "cell_type": "code",
   "execution_count": null,
   "metadata": {},
   "outputs": [],
   "source": []
  },
  {
   "cell_type": "code",
   "execution_count": 84,
   "metadata": {},
   "outputs": [
    {
     "name": "stdout",
     "output_type": "stream",
     "text": [
      "Frequency of  c is : 1\n"
     ]
    },
    {
     "data": {
      "text/plain": [
       "{'bytes': 9,\n",
       " 'integer': 8,\n",
       " 'long': 8,\n",
       " 'data': 7,\n",
       " 'float': 7,\n",
       " 'type': 7,\n",
       " 'variable': 7,\n",
       " 'int': 6,\n",
       " 'double': 6,\n",
       " 'byte': 5,\n",
       " 'value': 5,\n",
       " 'memory': 4,\n",
       " 'unsigned': 4,\n",
       " 'sign': 4,\n",
       " 'size': 4,\n",
       " 'small': 4,\n",
       " 'character': 4,\n",
       " 'point': 4,\n",
       " 'short': 4,\n",
       " 'must': 3,\n",
       " 'precision': 3,\n",
       " 'computer': 3,\n",
       " 'letter': 3,\n",
       " 'char': 3,\n",
       " 'range': 3,\n",
       " 'digits': 3,\n",
       " 'e': 3,\n",
       " 'language': 3,\n",
       " 'amount': 3,\n",
       " 'write': 2,\n",
       " 'want': 2,\n",
       " 'false': 2,\n",
       " 'least': 2,\n",
       " 'identifier': 2,\n",
       " 'large': 2,\n",
       " 'wide': 2,\n",
       " 'declare': 2,\n",
       " 'variables': 2,\n",
       " 'program': 2,\n",
       " 'name': 2,\n",
       " 'number': 2,\n",
       " 'true': 2,\n",
       " 'precede': 2,\n",
       " 'fundamental': 2,\n",
       " 'system': 2,\n",
       " 'reserve': 2,\n",
       " 'systems': 2,\n",
       " 'single': 2,\n",
       " 'bool': 2,\n",
       " 'go': 2,\n",
       " 'four': 1,\n",
       " 'bite': 1,\n",
       " 'another': 1,\n",
       " 'syntax': 1,\n",
       " 'com': 1,\n",
       " 'complex': 1,\n",
       " 'come': 1,\n",
       " 'identifiers': 1,\n",
       " 'specification': 1,\n",
       " 'generally': 1,\n",
       " 'columns': 1,\n",
       " 'well': 1,\n",
       " 'represent': 1,\n",
       " 'since': 1,\n",
       " 'always': 1,\n",
       " 'find': 1,\n",
       " 'equivalent': 1,\n",
       " 'interpret': 1,\n",
       " 'wchar': 1,\n",
       " 'suggest': 1,\n",
       " 'computers': 1,\n",
       " 'specifier': 1,\n",
       " 'new': 1,\n",
       " 'kind': 1,\n",
       " 'also': 1,\n",
       " 'compile': 1,\n",
       " 'include': 1,\n",
       " 'sensitive': 1,\n",
       " 'apply': 1,\n",
       " 'follow': 1,\n",
       " 'basic': 1,\n",
       " 'organize': 1,\n",
       " 'show': 1,\n",
       " 'minimum': 1,\n",
       " 'general': 1,\n",
       " 'keywords': 1,\n",
       " 'desire': 1,\n",
       " 'occupy': 1,\n",
       " 'declaration': 1,\n",
       " 'relatively': 1,\n",
       " 'c': 1,\n",
       " 'addition': 1,\n",
       " 'boolean': 1,\n",
       " 'architecture': 1,\n",
       " 'may': 1,\n",
       " 'specify': 1,\n",
       " 'natural': 1,\n",
       " 'next': 1,\n",
       " 'mean': 1,\n",
       " 'like': 1,\n",
       " 'much': 1,\n",
       " 'simple': 1,\n",
       " 'cplusplus': 1,\n",
       " 'compiler': 1,\n",
       " 'description': 1,\n",
       " 'non': 1,\n",
       " 'thus': 1,\n",
       " 'three': 1,\n",
       " 'provide': 1,\n",
       " 'manage': 1,\n",
       " 'know': 1,\n",
       " 'manipulate': 1,\n",
       " 'important': 1,\n",
       " 'summary': 1,\n",
       " 'word': 1,\n",
       " 'order': 1,\n",
       " 'right': 1,\n",
       " 'additional': 1,\n",
       " 'capital': 1,\n",
       " 'depend': 1,\n",
       " 'group': 1}"
      ]
     },
     "execution_count": 84,
     "metadata": {},
     "output_type": "execute_result"
    }
   ],
   "source": [
    "import operator\n",
    "for i in range(1):\n",
    "    freq(corpus[i])\n",
    "Dict = dict(sorted(Dict.items(), key=operator.itemgetter(1),reverse=True))\n",
    "Dict"
   ]
  },
  {
   "cell_type": "code",
   "execution_count": 85,
   "metadata": {},
   "outputs": [],
   "source": [
    "from sklearn.feature_extraction.text import CountVectorizer\n",
    "import re\n",
    "cv=CountVectorizer(max_df=0.8,stop_words=stop_words, max_features=10000, ngram_range=(1,3))\n",
    "X=cv.fit_transform(corpus)\n"
   ]
  },
  {
   "cell_type": "code",
   "execution_count": 86,
   "metadata": {},
   "outputs": [
    {
     "data": {
      "text/plain": [
       "['language',\n",
       " 'compiler',\n",
       " 'may',\n",
       " 'also',\n",
       " 'include',\n",
       " 'additional',\n",
       " 'keywords',\n",
       " 'important',\n",
       " 'sensitive',\n",
       " 'mean',\n",
       " 'identifier',\n",
       " 'capital',\n",
       " 'letter',\n",
       " 'equivalent',\n",
       " 'another',\n",
       " 'name',\n",
       " 'small',\n",
       " 'thus',\n",
       " 'variable',\n",
       " 'three',\n",
       " 'identifiers',\n",
       " 'fundamental',\n",
       " 'data',\n",
       " 'type',\n",
       " 'program',\n",
       " 'variables',\n",
       " 'computer',\n",
       " 'memory',\n",
       " 'know',\n",
       " 'kind',\n",
       " 'want',\n",
       " 'since',\n",
       " 'occupy',\n",
       " 'amount',\n",
       " 'simple',\n",
       " 'single',\n",
       " 'large',\n",
       " 'interpret',\n",
       " 'computers',\n",
       " 'organize',\n",
       " 'bytes',\n",
       " 'byte',\n",
       " 'minimum',\n",
       " 'manage',\n",
       " 'relatively',\n",
       " 'character',\n",
       " 'integer',\n",
       " 'generally',\n",
       " 'addition',\n",
       " 'manipulate',\n",
       " 'complex',\n",
       " 'come',\n",
       " 'group',\n",
       " 'long',\n",
       " 'non',\n",
       " 'next',\n",
       " 'summary',\n",
       " 'basic',\n",
       " 'well',\n",
       " 'range',\n",
       " 'value',\n",
       " 'represent',\n",
       " 'description',\n",
       " 'size',\n",
       " 'char',\n",
       " 'sign',\n",
       " 'unsigned',\n",
       " 'short',\n",
       " 'int',\n",
       " 'bool',\n",
       " 'boolean',\n",
       " 'true',\n",
       " 'false',\n",
       " 'float',\n",
       " 'point',\n",
       " 'digits',\n",
       " 'double',\n",
       " 'precision',\n",
       " 'wchar',\n",
       " 'wide',\n",
       " 'columns',\n",
       " 'depend',\n",
       " 'system',\n",
       " 'show',\n",
       " 'find',\n",
       " 'bite',\n",
       " 'systems',\n",
       " 'general',\n",
       " 'specification',\n",
       " 'natural',\n",
       " 'suggest',\n",
       " 'architecture',\n",
       " 'word',\n",
       " 'four',\n",
       " 'must',\n",
       " 'least',\n",
       " 'precede',\n",
       " 'always',\n",
       " 'apply',\n",
       " 'provide',\n",
       " 'much',\n",
       " 'declaration',\n",
       " 'order',\n",
       " 'declare',\n",
       " 'specify',\n",
       " 'syntax',\n",
       " 'new',\n",
       " 'specifier',\n",
       " 'desire',\n",
       " 'like',\n",
       " 'cplusplus',\n",
       " 'com',\n",
       " 'right']"
      ]
     },
     "execution_count": 86,
     "metadata": {},
     "output_type": "execute_result"
    }
   ],
   "source": [
    "list(cv.vocabulary_.keys())"
   ]
  },
  {
   "cell_type": "code",
   "execution_count": 87,
   "metadata": {},
   "outputs": [],
   "source": [
    "from sklearn.feature_extraction.text import TfidfTransformer\n",
    " \n",
    "tfidf_transformer=TfidfTransformer(smooth_idf=True,use_idf=True)\n",
    "tfidf_transformer.fit(X)\n",
    "# get feature names\n",
    "feature_names=cv.get_feature_names()\n",
    " \n",
    "# fetch document for which keywords needs to be extracted\n",
    "doc=s\n",
    " \n",
    "#generate tf-idf for the given document\n",
    "tf_idf_vector=tfidf_transformer.transform(cv.transform([doc]))"
   ]
  },
  {
   "cell_type": "code",
   "execution_count": 88,
   "metadata": {},
   "outputs": [
    {
     "data": {
      "text/plain": [
       "<1x113 sparse matrix of type '<class 'numpy.float64'>'\n",
       "\twith 113 stored elements in Compressed Sparse Row format>"
      ]
     },
     "execution_count": 88,
     "metadata": {},
     "output_type": "execute_result"
    }
   ],
   "source": [
    "tf_idf_vector"
   ]
  },
  {
   "cell_type": "code",
   "execution_count": 89,
   "metadata": {},
   "outputs": [
    {
     "name": "stdout",
     "output_type": "stream",
     "text": [
      "\n",
      "Abstract:\n",
      "c language compiler may also include additional reserve keywords important c language sensitive language mean identifier write capital letter equivalent another name write small letter thus variable variable variable three variable identifiers fundamental data type program variables computer memory computer know kind data want since go occupy amount memory simple single letter large go interpret memory computers organize bytes byte minimum amount memory manage c byte relatively small amount data single character small integer generally integer addition computer manipulate complex data type come group bytes long number non integer number next summary basic fundamental data type c well range value represent name description size range char character small integer byte sign unsigned short int short integer bytes sign short unsigned sign int integer bytes unsigned sign long int long long integer bytes unsigned bool boolean value value true byte true false false float float point bytes e digits double double precision float point bytes e digits long double long double precision float point bytes e digits wchar wide character wide character bytes value columns size range depend system program compile value show find bite systems systems general specification int natural size suggest system architecture word four integer type char short int long must least large precede char always byte size apply float point type float double long double must provide least much precision precede declaration variables order variable c must declare specify data type want syntax declare new variable specifier desire data type like int bool float follow variable identifier cplusplus com right reserve\n",
      "\n",
      "Keywords:\n",
      "bytes 0.27\n",
      "long 0.246\n",
      "integer 0.246\n",
      "variable 0.221\n",
      "type 0.221\n",
      "float 0.221\n",
      "data 0.221\n",
      "int 0.195\n",
      "double 0.195\n",
      "value 0.168\n",
      "byte 0.168\n",
      "unsigned 0.139\n"
     ]
    }
   ],
   "source": [
    "#Function for sorting tf_idf in descending order\n",
    "from scipy.sparse import coo_matrix\n",
    "def sort_coo(coo_matrix):\n",
    "    tuples = zip(coo_matrix.col, coo_matrix.data)\n",
    "    return sorted(tuples, key=lambda x: (x[1], x[0]), reverse=True)\n",
    " \n",
    "def extract_topn_from_vector(feature_names, sorted_items, topn=10):\n",
    "    \"\"\"get the feature names and tf-idf score of top n items\"\"\"\n",
    "    \n",
    "    #use only topn items from vector\n",
    "    sorted_items = sorted_items[:topn]\n",
    " \n",
    "    score_vals = []\n",
    "    feature_vals = []\n",
    "    \n",
    "    # word index and corresponding tf-idf score\n",
    "    for idx, score in sorted_items:\n",
    "        \n",
    "        #keep track of feature name and its corresponding score\n",
    "        score_vals.append(round(score, 3))\n",
    "        feature_vals.append(feature_names[idx])\n",
    " \n",
    "    #create a tuples of feature,score\n",
    "    #results = zip(feature_vals,score_vals)\n",
    "    results= {}\n",
    "    for idx in range(len(feature_vals)):\n",
    "        results[feature_vals[idx]]=score_vals[idx]\n",
    "    \n",
    "    return results\n",
    "#sort the tf-idf vectors by descending order of scores\n",
    "sorted_items=sort_coo(tf_idf_vector.tocoo())\n",
    "#extract only the top n; n here is 10\n",
    "keywords=extract_topn_from_vector(feature_names,sorted_items,12)\n",
    " \n",
    "# now print the results\n",
    "print(\"\\nAbstract:\")\n",
    "print(doc)\n",
    "print(\"\\nKeywords:\")\n",
    "for k in keywords:\n",
    "    print(k,keywords[k])"
   ]
  },
  {
   "cell_type": "code",
   "execution_count": 91,
   "metadata": {},
   "outputs": [],
   "source": [
    "l = []\n",
    "for k in keywords:\n",
    "    k = '\\\"' + k + '\\\"'\n",
    "    l.append(k)\n",
    "s = \",\"\n",
    "s = s.join(l)\n",
    "g = open(\"writer.txt\",\"a\")\n",
    "g.write(s)\n",
    "g.close()"
   ]
  },
  {
   "cell_type": "code",
   "execution_count": null,
   "metadata": {},
   "outputs": [],
   "source": []
  },
  {
   "cell_type": "code",
   "execution_count": null,
   "metadata": {},
   "outputs": [],
   "source": []
  },
  {
   "cell_type": "code",
   "execution_count": null,
   "metadata": {},
   "outputs": [],
   "source": []
  }
 ],
 "metadata": {
  "kernelspec": {
   "display_name": "Python 3",
   "language": "python",
   "name": "python3"
  },
  "language_info": {
   "codemirror_mode": {
    "name": "ipython",
    "version": 3
   },
   "file_extension": ".py",
   "mimetype": "text/x-python",
   "name": "python",
   "nbconvert_exporter": "python",
   "pygments_lexer": "ipython3",
   "version": "3.7.4"
  }
 },
 "nbformat": 4,
 "nbformat_minor": 2
}
